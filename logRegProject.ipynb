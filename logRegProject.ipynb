{
 "cells": [
  {
   "cell_type": "code",
   "execution_count": 1,
   "metadata": {},
   "outputs": [],
   "source": [
    "import findspark\n",
    "findspark.init('/home/ubuntu/spark-2.1.1-bin-hadoop2.7')\n",
    "import pyspark\n",
    "from pyspark.sql import SparkSession\n",
    "from pyspark.ml.classification import LogisticRegression\n",
    "from pyspark.ml.feature import OneHotEncoder,StringIndexer,VectorAssembler\n",
    "from pyspark.sql.functions import datediff,current_date,year,month,dayofmonth,max\n",
    "from pyspark.ml.evaluation import BinaryClassificationEvaluator"
   ]
  },
  {
   "cell_type": "code",
   "execution_count": 2,
   "metadata": {},
   "outputs": [],
   "source": [
    "spark=SparkSession.builder.appName(\"logRegProject\").getOrCreate()"
   ]
  },
  {
   "cell_type": "code",
   "execution_count": 3,
   "metadata": {},
   "outputs": [],
   "source": [
    "df=spark.read.csv(\"customer_churn.csv\",inferSchema=True,header=True)"
   ]
  },
  {
   "cell_type": "code",
   "execution_count": 4,
   "metadata": {},
   "outputs": [
    {
     "name": "stdout",
     "output_type": "stream",
     "text": [
      "root\n",
      " |-- Names: string (nullable = true)\n",
      " |-- Age: double (nullable = true)\n",
      " |-- Total_Purchase: double (nullable = true)\n",
      " |-- Account_Manager: integer (nullable = true)\n",
      " |-- Years: double (nullable = true)\n",
      " |-- Num_Sites: double (nullable = true)\n",
      " |-- Onboard_date: timestamp (nullable = true)\n",
      " |-- Location: string (nullable = true)\n",
      " |-- Company: string (nullable = true)\n",
      " |-- Churn: integer (nullable = true)\n",
      "\n"
     ]
    }
   ],
   "source": [
    "df.printSchema()"
   ]
  },
  {
   "cell_type": "code",
   "execution_count": 5,
   "metadata": {},
   "outputs": [
    {
     "data": {
      "text/plain": [
       "[Row(Names='Cameron Williams', Age=42.0, Total_Purchase=11066.8, Account_Manager=0, Years=7.22, Num_Sites=8.0, Onboard_date=datetime.datetime(2013, 8, 30, 7, 0, 40), Location='10265 Elizabeth Mission Barkerburgh, AK 89518', Company='Harvey LLC', Churn=1),\n",
       " Row(Names='Kevin Mueller', Age=41.0, Total_Purchase=11916.22, Account_Manager=0, Years=6.5, Num_Sites=11.0, Onboard_date=datetime.datetime(2013, 8, 13, 0, 38, 46), Location='6157 Frank Gardens Suite 019 Carloshaven, RI 17756', Company='Wilson PLC', Churn=1)]"
      ]
     },
     "execution_count": 5,
     "metadata": {},
     "output_type": "execute_result"
    }
   ],
   "source": [
    "df.head(2)"
   ]
  },
  {
   "cell_type": "code",
   "execution_count": 6,
   "metadata": {},
   "outputs": [
    {
     "data": {
      "text/plain": [
       "['Names',\n",
       " 'Age',\n",
       " 'Total_Purchase',\n",
       " 'Account_Manager',\n",
       " 'Years',\n",
       " 'Num_Sites',\n",
       " 'Onboard_date',\n",
       " 'Location',\n",
       " 'Company',\n",
       " 'Churn']"
      ]
     },
     "execution_count": 6,
     "metadata": {},
     "output_type": "execute_result"
    }
   ],
   "source": [
    "df.columns"
   ]
  },
  {
   "cell_type": "code",
   "execution_count": 7,
   "metadata": {},
   "outputs": [],
   "source": [
    "col_list=[ 'Age',\n",
    " 'Total_Purchase',\n",
    " 'Account_Manager',\n",
    " 'Years',\n",
    " 'Num_Sites',\n",
    " 'Churn']"
   ]
  },
  {
   "cell_type": "code",
   "execution_count": 8,
   "metadata": {},
   "outputs": [],
   "source": [
    "df=df[col_list]"
   ]
  },
  {
   "cell_type": "code",
   "execution_count": 9,
   "metadata": {},
   "outputs": [
    {
     "name": "stdout",
     "output_type": "stream",
     "text": [
      "root\n",
      " |-- Age: double (nullable = true)\n",
      " |-- Total_Purchase: double (nullable = true)\n",
      " |-- Account_Manager: integer (nullable = true)\n",
      " |-- Years: double (nullable = true)\n",
      " |-- Num_Sites: double (nullable = true)\n",
      " |-- Churn: integer (nullable = true)\n",
      "\n"
     ]
    }
   ],
   "source": [
    "df.printSchema()"
   ]
  },
  {
   "cell_type": "code",
   "execution_count": 10,
   "metadata": {},
   "outputs": [
    {
     "name": "stdout",
     "output_type": "stream",
     "text": [
      "+-------+-----------------+-----------------+------------------+-----------------+------------------+-------------------+\n",
      "|summary|              Age|   Total_Purchase|   Account_Manager|            Years|         Num_Sites|              Churn|\n",
      "+-------+-----------------+-----------------+------------------+-----------------+------------------+-------------------+\n",
      "|  count|              900|              900|               900|              900|               900|                900|\n",
      "|   mean|41.81666666666667|10062.82403333334|0.4811111111111111| 5.27315555555555| 8.587777777777777|0.16666666666666666|\n",
      "| stddev|6.127560416916251|2408.644531858096|0.4999208935073339|1.274449013194616|1.7648355920350969| 0.3728852122772358|\n",
      "|    min|             22.0|            100.0|                 0|              1.0|               3.0|                  0|\n",
      "|    max|             65.0|         18026.01|                 1|             9.15|              14.0|                  1|\n",
      "+-------+-----------------+-----------------+------------------+-----------------+------------------+-------------------+\n",
      "\n"
     ]
    }
   ],
   "source": [
    "df.describe().show()"
   ]
  },
  {
   "cell_type": "code",
   "execution_count": 11,
   "metadata": {},
   "outputs": [],
   "source": [
    "max_val=df.agg(max(\"Total_Purchase\")).collect()[0][0]"
   ]
  },
  {
   "cell_type": "code",
   "execution_count": 12,
   "metadata": {},
   "outputs": [],
   "source": [
    "df=df.withColumn(\"Total_Purchase_Normalized\",df[\"Total_Purchase\"]/(18026.01))"
   ]
  },
  {
   "cell_type": "code",
   "execution_count": 13,
   "metadata": {},
   "outputs": [],
   "source": [
    "new_col_list=['Age',\n",
    "  'Account_Manager',\n",
    " 'Years',\n",
    " 'Num_Sites',\n",
    " 'Churn',\n",
    " 'Total_Purchase_Normalized']"
   ]
  },
  {
   "cell_type": "code",
   "execution_count": 14,
   "metadata": {},
   "outputs": [],
   "source": [
    "df=df[new_col_list]"
   ]
  },
  {
   "cell_type": "code",
   "execution_count": 15,
   "metadata": {},
   "outputs": [
    {
     "name": "stdout",
     "output_type": "stream",
     "text": [
      "root\n",
      " |-- Age: double (nullable = true)\n",
      " |-- Account_Manager: integer (nullable = true)\n",
      " |-- Years: double (nullable = true)\n",
      " |-- Num_Sites: double (nullable = true)\n",
      " |-- Churn: integer (nullable = true)\n",
      " |-- Total_Purchase_Normalized: double (nullable = true)\n",
      "\n"
     ]
    }
   ],
   "source": [
    "df.printSchema()"
   ]
  },
  {
   "cell_type": "code",
   "execution_count": 16,
   "metadata": {},
   "outputs": [],
   "source": [
    "assembler=VectorAssembler(inputCols=['Age','Account_Manager','Years','Num_Sites','Total_Purchase_Normalized'], outputCol=\"feature_Vector\")"
   ]
  },
  {
   "cell_type": "code",
   "execution_count": 17,
   "metadata": {},
   "outputs": [],
   "source": [
    "df=assembler.transform(df)"
   ]
  },
  {
   "cell_type": "code",
   "execution_count": 18,
   "metadata": {},
   "outputs": [
    {
     "name": "stdout",
     "output_type": "stream",
     "text": [
      "root\n",
      " |-- Age: double (nullable = true)\n",
      " |-- Account_Manager: integer (nullable = true)\n",
      " |-- Years: double (nullable = true)\n",
      " |-- Num_Sites: double (nullable = true)\n",
      " |-- Churn: integer (nullable = true)\n",
      " |-- Total_Purchase_Normalized: double (nullable = true)\n",
      " |-- feature_Vector: vector (nullable = true)\n",
      "\n"
     ]
    }
   ],
   "source": [
    "df.printSchema()"
   ]
  },
  {
   "cell_type": "code",
   "execution_count": 19,
   "metadata": {},
   "outputs": [],
   "source": [
    "train_data, test_data = df.randomSplit([0.8,0.2])"
   ]
  },
  {
   "cell_type": "code",
   "execution_count": 20,
   "metadata": {},
   "outputs": [],
   "source": [
    "logReg=LogisticRegression(featuresCol=\"feature_Vector\",labelCol=\"Churn\")"
   ]
  },
  {
   "cell_type": "code",
   "execution_count": 21,
   "metadata": {},
   "outputs": [],
   "source": [
    "model=logReg.fit(train_data)"
   ]
  },
  {
   "cell_type": "markdown",
   "metadata": {},
   "source": [
    "# model summary will provide different attributes of the model"
   ]
  },
  {
   "cell_type": "code",
   "execution_count": 22,
   "metadata": {},
   "outputs": [],
   "source": [
    "model_sum=model.summary"
   ]
  },
  {
   "cell_type": "markdown",
   "metadata": {},
   "source": [
    "# model.transform will give the test_data dataframe with an addtional column of prediction"
   ]
  },
  {
   "cell_type": "code",
   "execution_count": 23,
   "metadata": {},
   "outputs": [],
   "source": [
    "test_results=model.transform(test_data)"
   ]
  },
  {
   "cell_type": "markdown",
   "metadata": {},
   "source": [
    "# model.evaluate will evaluate the model based on test_data and then use the object returned to check diff evaluation metrics"
   ]
  },
  {
   "cell_type": "code",
   "execution_count": 24,
   "metadata": {},
   "outputs": [],
   "source": [
    "eval=model.evaluate(test_data)"
   ]
  },
  {
   "cell_type": "code",
   "execution_count": 25,
   "metadata": {},
   "outputs": [
    {
     "data": {
      "text/plain": [
       "0.9292307692307692"
      ]
     },
     "execution_count": 25,
     "metadata": {},
     "output_type": "execute_result"
    }
   ],
   "source": [
    "eval.areaUnderROC"
   ]
  },
  {
   "cell_type": "code",
   "execution_count": 26,
   "metadata": {},
   "outputs": [
    {
     "name": "stdout",
     "output_type": "stream",
     "text": [
      "+----+---------------+-----+---------+-----+-------------------------+--------------------+--------------------+--------------------+----------+\n",
      "| Age|Account_Manager|Years|Num_Sites|Churn|Total_Purchase_Normalized|      feature_Vector|       rawPrediction|         probability|prediction|\n",
      "+----+---------------+-----+---------+-----+-------------------------+--------------------+--------------------+--------------------+----------+\n",
      "|30.0|              1| 4.13|      7.0|    0|      0.46620300332685943|[30.0,1.0,4.13,7....|[5.82178895106447...|[0.99704644831882...|       0.0|\n",
      "|30.0|              1| 5.22|      8.0|    1|       0.6421482069520654|[30.0,1.0,5.22,8....|[3.89712472249539...|[0.98010370243555...|       0.0|\n",
      "|30.0|              1| 7.16|      9.0|    1|       0.5960353955201401|[30.0,1.0,7.16,9....|[1.63671302345900...|[0.83708718160741...|       0.0|\n",
      "|31.0|              0|  5.3|      6.0|    0|        0.651460861277676|[31.0,0.0,5.3,6.0...|[6.66156646069944...|[0.99872249303567...|       0.0|\n",
      "|31.0|              1| 5.88|      8.0|    0|        0.680387950522606|[31.0,1.0,5.88,8....|[3.42837808912471...|[0.96857974559781...|       0.0|\n",
      "|32.0|              0| 5.12|      8.0|    0|       0.5945159244891133|[32.0,0.0,5.12,8....|[4.36943835735969...|[0.98749988279422...|       0.0|\n",
      "|32.0|              0| 7.78|     10.0|    0|       0.6961002462552723|[32.0,0.0,7.78,10...|[0.41469660006154...|[0.60221349895943...|       0.0|\n",
      "|33.0|              0| 6.71|      7.0|    0|      0.41567157679375527|[33.0,0.0,6.71,7....|[4.69952232887311...|[0.99098243375961...|       0.0|\n",
      "|33.0|              1|  4.4|      6.0|    0|       0.6307707584762242|[33.0,1.0,4.4,6.0...|[6.54209700980421...|[0.99856061225725...|       0.0|\n",
      "|33.0|              1| 4.57|      8.0|    0|      0.42996425720389597|[33.0,1.0,4.57,8....|[4.21312189395357...|[0.98541575632229...|       0.0|\n",
      "|33.0|              1|  5.5|      9.0|    0|       0.6721348762149805|[33.0,1.0,5.5,9.0...|[2.33519450375662...|[0.91175019068505...|       0.0|\n",
      "|34.0|              0| 3.36|     11.0|    0|       0.6971886734779356|[34.0,0.0,3.36,11...|[1.62233747868346...|[0.83511724446027...|       0.0|\n",
      "|34.0|              0|  5.2|      9.0|    0|       0.7530368617347933|[34.0,0.0,5.2,9.0...|[2.90116135005638...|[0.94790381674958...|       0.0|\n",
      "|34.0|              0| 6.11|      8.0|    0|       0.4337138390581166|[34.0,0.0,6.11,8....|[3.78031981497499...|[0.97769353717450...|       0.0|\n",
      "|35.0|              0| 1.66|      7.0|    0|       0.7020050471513108|[35.0,0.0,1.66,7....|[7.25830486624139...|[0.99929619478212...|       0.0|\n",
      "|35.0|              0| 4.64|     12.0|    1|       0.7140676167382578|[35.0,0.0,4.64,12...|[-0.3696914712428...|[0.40861557509534...|       1.0|\n",
      "|35.0|              0| 5.03|     10.0|    0|       0.6855266362328658|[35.0,0.0,5.03,10...|[1.79405921944891...|[0.85742422798575...|       0.0|\n",
      "|35.0|              0| 6.45|      9.0|    0|       0.8638217775314672|[35.0,0.0,6.45,9....|[2.04659014296139...|[0.88560261794447...|       0.0|\n",
      "|35.0|              1| 3.73|      6.0|    0|        0.717665196013982|[35.0,1.0,3.73,6....|[6.73401244659054...|[0.99881166426049...|       0.0|\n",
      "|35.0|              1| 4.97|      9.0|    0|       0.4084054097384835|[35.0,1.0,4.97,9....|[2.68347192859875...|[0.93604428685168...|       0.0|\n",
      "+----+---------------+-----+---------+-----+-------------------------+--------------------+--------------------+--------------------+----------+\n",
      "only showing top 20 rows\n",
      "\n"
     ]
    }
   ],
   "source": [
    "test_results.show()"
   ]
  },
  {
   "cell_type": "code",
   "execution_count": 27,
   "metadata": {},
   "outputs": [],
   "source": [
    "eval=BinaryClassificationEvaluator(rawPredictionCol=\"prediction\",labelCol=\"Churn\")"
   ]
  },
  {
   "cell_type": "code",
   "execution_count": 28,
   "metadata": {},
   "outputs": [
    {
     "data": {
      "text/plain": [
       "0.7969230769230768"
      ]
     },
     "execution_count": 28,
     "metadata": {},
     "output_type": "execute_result"
    }
   ],
   "source": [
    "eval.evaluate(test_results)"
   ]
  }
 ],
 "metadata": {
  "kernelspec": {
   "display_name": "Python 3",
   "language": "python",
   "name": "python3"
  },
  "language_info": {
   "codemirror_mode": {
    "name": "ipython",
    "version": 3
   },
   "file_extension": ".py",
   "mimetype": "text/x-python",
   "name": "python",
   "nbconvert_exporter": "python",
   "pygments_lexer": "ipython3",
   "version": "3.5.2"
  }
 },
 "nbformat": 4,
 "nbformat_minor": 2
}
