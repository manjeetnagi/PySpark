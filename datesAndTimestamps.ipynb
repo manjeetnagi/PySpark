{
 "cells": [
  {
   "cell_type": "code",
   "execution_count": 2,
   "metadata": {},
   "outputs": [],
   "source": [
    "import findspark\n",
    "findspark.init('/home/ubuntu/spark-2.1.1-bin-hadoop2.7')\n",
    "#import pyspark\n",
    "from pyspark.sql import SparkSession\n",
    "from pyspark.sql.functions import dayofmonth,dayofyear,month,weekofyear,hour,year,format_number,date_format"
   ]
  },
  {
   "cell_type": "code",
   "execution_count": 3,
   "metadata": {},
   "outputs": [],
   "source": [
    "spark=SparkSession.builder.appName(\"datesAndTimestamps\").getOrCreate()"
   ]
  },
  {
   "cell_type": "code",
   "execution_count": 4,
   "metadata": {},
   "outputs": [],
   "source": [
    "df=spark.read.csv(\"appl_stock.csv\",inferSchema=True,header=True)"
   ]
  },
  {
   "cell_type": "code",
   "execution_count": 5,
   "metadata": {},
   "outputs": [
    {
     "name": "stdout",
     "output_type": "stream",
     "text": [
      "root\n",
      " |-- Date: timestamp (nullable = true)\n",
      " |-- Open: double (nullable = true)\n",
      " |-- High: double (nullable = true)\n",
      " |-- Low: double (nullable = true)\n",
      " |-- Close: double (nullable = true)\n",
      " |-- Volume: integer (nullable = true)\n",
      " |-- Adj Close: double (nullable = true)\n",
      "\n"
     ]
    }
   ],
   "source": [
    "df.printSchema()"
   ]
  },
  {
   "cell_type": "code",
   "execution_count": 6,
   "metadata": {},
   "outputs": [
    {
     "data": {
      "text/plain": [
       "[Row(Date=datetime.datetime(2010, 1, 4, 0, 0), Open=213.429998, High=214.499996, Low=212.38000099999996, Close=214.009998, Volume=123432400, Adj Close=27.727039)]"
      ]
     },
     "execution_count": 6,
     "metadata": {},
     "output_type": "execute_result"
    }
   ],
   "source": [
    "df.head(1)"
   ]
  },
  {
   "cell_type": "code",
   "execution_count": 7,
   "metadata": {},
   "outputs": [
    {
     "name": "stdout",
     "output_type": "stream",
     "text": [
      "+--------------------+\n",
      "|                Date|\n",
      "+--------------------+\n",
      "|2010-01-04 00:00:...|\n",
      "|2010-01-05 00:00:...|\n",
      "|2010-01-06 00:00:...|\n",
      "|2010-01-07 00:00:...|\n",
      "|2010-01-08 00:00:...|\n",
      "|2010-01-11 00:00:...|\n",
      "|2010-01-12 00:00:...|\n",
      "|2010-01-13 00:00:...|\n",
      "|2010-01-14 00:00:...|\n",
      "|2010-01-15 00:00:...|\n",
      "|2010-01-19 00:00:...|\n",
      "|2010-01-20 00:00:...|\n",
      "|2010-01-21 00:00:...|\n",
      "|2010-01-22 00:00:...|\n",
      "|2010-01-25 00:00:...|\n",
      "|2010-01-26 00:00:...|\n",
      "|2010-01-27 00:00:...|\n",
      "|2010-01-28 00:00:...|\n",
      "|2010-01-29 00:00:...|\n",
      "|2010-02-01 00:00:...|\n",
      "+--------------------+\n",
      "only showing top 20 rows\n",
      "\n"
     ]
    }
   ],
   "source": [
    "df.select(\"Date\").show()"
   ]
  },
  {
   "cell_type": "code",
   "execution_count": 8,
   "metadata": {},
   "outputs": [],
   "source": [
    "new_df=df.withColumn(\"Year\",year(\"Date\"))\n",
    "new_df=new_df.withColumn(\"Month\", month(\"Date\"))\n",
    "new_df=new_df.withColumn(\"Date\",dayofmonth(\"Date\"))"
   ]
  },
  {
   "cell_type": "code",
   "execution_count": 9,
   "metadata": {},
   "outputs": [
    {
     "name": "stdout",
     "output_type": "stream",
     "text": [
      "root\n",
      " |-- Date: integer (nullable = true)\n",
      " |-- Open: double (nullable = true)\n",
      " |-- High: double (nullable = true)\n",
      " |-- Low: double (nullable = true)\n",
      " |-- Close: double (nullable = true)\n",
      " |-- Volume: integer (nullable = true)\n",
      " |-- Adj Close: double (nullable = true)\n",
      " |-- Year: integer (nullable = true)\n",
      " |-- Month: integer (nullable = true)\n",
      "\n"
     ]
    }
   ],
   "source": [
    "new_df.printSchema()"
   ]
  },
  {
   "cell_type": "code",
   "execution_count": 10,
   "metadata": {},
   "outputs": [
    {
     "name": "stdout",
     "output_type": "stream",
     "text": [
      "+----+------------------+------------------+------------------+------------------+---------+------------------+----+-----+\n",
      "|Date|              Open|              High|               Low|             Close|   Volume|         Adj Close|Year|Month|\n",
      "+----+------------------+------------------+------------------+------------------+---------+------------------+----+-----+\n",
      "|   4|        213.429998|        214.499996|212.38000099999996|        214.009998|123432400|         27.727039|2010|    1|\n",
      "|   5|        214.599998|        215.589994|        213.249994|        214.379993|150476200|27.774976000000002|2010|    1|\n",
      "|   6|        214.379993|            215.23|        210.750004|        210.969995|138040000|27.333178000000004|2010|    1|\n",
      "|   7|            211.75|        212.000006|        209.050005|            210.58|119282800|          27.28265|2010|    1|\n",
      "|   8|        210.299994|        212.000006|209.06000500000002|211.98000499999998|111902700|         27.464034|2010|    1|\n",
      "|  11|212.79999700000002|        213.000002|        208.450005|210.11000299999998|115557400|         27.221758|2010|    1|\n",
      "|  12|209.18999499999998|209.76999500000002|        206.419998|        207.720001|148614900|          26.91211|2010|    1|\n",
      "|  13|        207.870005|210.92999500000002|        204.099998|        210.650002|151473000|          27.29172|2010|    1|\n",
      "|  14|210.11000299999998|210.45999700000002|        209.020004|            209.43|108223500|         27.133657|2010|    1|\n",
      "|  15|210.92999500000002|211.59999700000003|        205.869999|            205.93|148516900|26.680197999999997|2010|    1|\n",
      "|  19|        208.330002|215.18999900000003|        207.240004|        215.039995|182501900|27.860484999999997|2010|    1|\n",
      "|  20|        214.910006|        215.549994|        209.500002|            211.73|153038200|         27.431644|2010|    1|\n",
      "|  21|        212.079994|213.30999599999998|        207.210003|        208.069996|152038600|         26.957455|2010|    1|\n",
      "|  22|206.78000600000001|        207.499996|            197.16|            197.75|220441900|         25.620401|2010|    1|\n",
      "|  25|202.51000200000001|        204.699999|        200.190002|        203.070002|266424900|26.309658000000002|2010|    1|\n",
      "|  26|205.95000100000001|        213.710005|        202.580004|        205.940001|466777500|         26.681494|2010|    1|\n",
      "|  27|        206.849995|            210.58|        199.530001|        207.880005|430642100|26.932840000000002|2010|    1|\n",
      "|  28|        204.930004|        205.500004|        198.699995|        199.289995|293375600|25.819922000000002|2010|    1|\n",
      "|  29|        201.079996|        202.199995|        190.250002|        192.060003|311488100|         24.883208|2010|    1|\n",
      "|   1|192.36999699999998|             196.0|191.29999899999999|        194.729998|187469100|         25.229131|2010|    2|\n",
      "+----+------------------+------------------+------------------+------------------+---------+------------------+----+-----+\n",
      "only showing top 20 rows\n",
      "\n"
     ]
    }
   ],
   "source": [
    "new_df.show()"
   ]
  },
  {
   "cell_type": "code",
   "execution_count": 11,
   "metadata": {},
   "outputs": [
    {
     "name": "stdout",
     "output_type": "stream",
     "text": [
      "root\n",
      " |-- Date: integer (nullable = true)\n",
      " |-- Open: double (nullable = true)\n",
      " |-- High: double (nullable = true)\n",
      " |-- Low: double (nullable = true)\n",
      " |-- Close: double (nullable = true)\n",
      " |-- Volume: integer (nullable = true)\n",
      " |-- Adj Close: double (nullable = true)\n",
      " |-- Year: integer (nullable = true)\n",
      " |-- Month: integer (nullable = true)\n",
      "\n"
     ]
    }
   ],
   "source": [
    "new_df.printSchema()"
   ]
  },
  {
   "cell_type": "code",
   "execution_count": 12,
   "metadata": {},
   "outputs": [
    {
     "name": "stdout",
     "output_type": "stream",
     "text": [
      "+----+------------------+\n",
      "|Year|        max(Close)|\n",
      "+----+------------------+\n",
      "|2010|        325.470013|\n",
      "|2011|422.23999800000007|\n",
      "|2012|        702.100021|\n",
      "|2013|        570.090004|\n",
      "|2014|        647.349983|\n",
      "|2015|             133.0|\n",
      "|2016|            118.25|\n",
      "+----+------------------+\n",
      "\n"
     ]
    }
   ],
   "source": [
    "new_df.groupBy(\"Year\").max(\"Close\").orderBy(new_df[\"Year\"].asc()).show() # GroupsBy Year, Orders by Year in asc order"
   ]
  },
  {
   "cell_type": "code",
   "execution_count": null,
   "metadata": {},
   "outputs": [],
   "source": [
    "\n"
   ]
  },
  {
   "cell_type": "code",
   "execution_count": null,
   "metadata": {},
   "outputs": [],
   "source": []
  }
 ],
 "metadata": {
  "kernelspec": {
   "display_name": "Python 3",
   "language": "python",
   "name": "python3"
  },
  "language_info": {
   "codemirror_mode": {
    "name": "ipython",
    "version": 3
   },
   "file_extension": ".py",
   "mimetype": "text/x-python",
   "name": "python",
   "nbconvert_exporter": "python",
   "pygments_lexer": "ipython3",
   "version": "3.5.2"
  }
 },
 "nbformat": 4,
 "nbformat_minor": 2
}
